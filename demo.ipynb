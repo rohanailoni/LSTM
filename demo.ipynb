{
 "cells": [
  {
   "cell_type": "code",
   "execution_count": 12,
   "metadata": {},
   "outputs": [],
   "source": [
    "import keras\n",
    "import tensorflow as tf\n",
    "from keras.models import Model\n",
    "from keras.layers import Dense, Dropout, LSTM, Input, Activation, concatenate\n",
    "from keras import optimizers\n",
    "import numpy as np\n",
    "np.random.seed(4)\n",
    "from sklearn import preprocessing\n"
   ]
  },
  {
   "cell_type": "code",
   "execution_count": 90,
   "metadata": {},
   "outputs": [],
   "source": [
    "def csv_to_dataset(csv_path):\n",
    "    data = pd.read_csv(csv_path)\n",
    "    data = data.drop('Date', axis=1)\n",
    "    data = data.drop('Adj Close', axis=1)\n",
    "    data = data.drop(0, axis=0)\n",
    "    data=data.dropna(axis=0)\n",
    "    print(data)\n",
    "    data = data.values\n",
    "\n",
    "    data_normaliser = preprocessing.MinMaxScaler()\n",
    "    data_normalised = data_normaliser.fit_transform(data)\n",
    "\n",
    "    # using the last {history_points} open close high low volume data points, predict the next open value\n",
    "    ohlcv_histories_normalised = np.array([data_normalised[i:i + history_points].copy() for i in range(len(data_normalised) - history_points)])\n",
    "    next_day_open_values_normalised = np.array([data_normalised[:, 0][i + history_points].copy() for i in range(len(data_normalised) - history_points)])\n",
    "    \n",
    "    next_day_open_values_normalised = np.expand_dims(next_day_open_values_normalised, -1)\n",
    "\n",
    "    next_day_open_values = np.array([data[:, 0][i + history_points].copy() for i in range(len(data) - history_points)])\n",
    "    next_day_open_values = np.expand_dims(next_day_open_values, -1)\n",
    "\n",
    "    y_normaliser = preprocessing.MinMaxScaler()\n",
    "    y_normaliser.fit(next_day_open_values)\n",
    "\n",
    "    def calc_ema(values, time_period):\n",
    "        # https://www.investopedia.com/ask/answers/122314/what-exponential-moving-average-ema-formula-and-how-ema-calculated.asp\n",
    "        sma = np.mean(values[:, 3])\n",
    "        ema_values = [sma]\n",
    "        k = 2 / (1 + time_period)\n",
    "        for i in range(len(his) - time_period, len(his)):\n",
    "            close = his[i][3]\n",
    "            ema_values.append(close * k + ema_values[-1] * (1 - k))\n",
    "        return ema_values[-1]\n",
    "\n",
    "    technical_indicators = []\n",
    "    for his in ohlcv_histories_normalised:\n",
    "        # note since we are using his[3] we are taking the SMA of the closing price\n",
    "        sma = np.mean(his[:, 3])\n",
    "        macd = calc_ema(his, 12) - calc_ema(his, 26)\n",
    "        technical_indicators.append(np.array([sma]))\n",
    "        # technical_indicators.append(np.array([sma,macd,]))\n",
    "\n",
    "    technical_indicators = np.array(technical_indicators)\n",
    "\n",
    "    tech_ind_scaler = preprocessing.MinMaxScaler()\n",
    "    technical_indicators_normalised = tech_ind_scaler.fit_transform(technical_indicators)\n",
    "\n",
    "    assert ohlcv_histories_normalised.shape[0] == next_day_open_values_normalised.shape[0] == technical_indicators_normalised.shape[0]\n",
    "    return ohlcv_histories_normalised, technical_indicators_normalised, next_day_open_values_normalised, next_day_open_values, y_normaliser"
   ]
  },
  {
   "cell_type": "code",
   "execution_count": 91,
   "metadata": {},
   "outputs": [
    {
     "name": "stdout",
     "output_type": "stream",
     "text": [
      "            Open         High          Low        Close      Volume\n",
      "1     651.400024   653.299988   635.599976   639.049988  11963447.0\n",
      "2     619.950012   634.900024   603.500000   623.849976  17783287.0\n",
      "3     644.000000   646.000000   626.000000   628.750000   8878320.0\n",
      "4     640.000000   661.000000   639.000000   653.299988  13322913.0\n",
      "5     627.799988   646.500000   627.799988   633.200012  11660575.0\n",
      "..           ...          ...          ...          ...         ...\n",
      "246  1423.000000  1426.000000  1406.449951  1411.050049   5793571.0\n",
      "247  1410.250000  1434.949951  1406.599976  1430.199951   5879234.0\n",
      "248  1430.000000  1451.699951  1421.000000  1439.849976   5654434.0\n",
      "249  1455.000000  1455.000000  1430.050049  1441.050049   6052712.0\n",
      "250  1474.000000  1477.550049  1452.250000  1459.550049   3520200.0\n",
      "\n",
      "[249 rows x 5 columns]\n",
      "lol (199,)\n",
      "(199, 1)\n",
      "(199, 50, 5)\n",
      "(199, 1)\n",
      "(199, 1)\n",
      "(199, 1)\n"
     ]
    }
   ],
   "source": [
    "history_points=50\n",
    "ohlcv_histories, technical_indicators, next_day_open_values, unscaled_y, y_normaliser = csv_to_dataset('INFY.NS.csv')\n",
    "print(ohlcv_histories.shape)\n",
    "print(technical_indicators.shape)\n",
    "print(next_day_open_values.shape)\n",
    "print(unscaled_y.shape)\n"
   ]
  },
  {
   "cell_type": "code",
   "execution_count": 86,
   "metadata": {},
   "outputs": [],
   "source": [
    "test_split = 0.9\n",
    "n = int(ohlcv_histories.shape[0] * test_split)\n",
    "\n",
    "ohlcv_train = ohlcv_histories[:n]\n",
    "tech_ind_train = technical_indicators[:n]\n",
    "y_train = next_day_open_values[:n]\n",
    "\n",
    "ohlcv_test = ohlcv_histories[n:]\n",
    "tech_ind_test = technical_indicators[n:]\n",
    "y_test = next_day_open_values[n:]\n",
    "\n",
    "unscaled_y_test = unscaled_y[n:]"
   ]
  },
  {
   "cell_type": "code",
   "execution_count": 92,
   "metadata": {},
   "outputs": [
    {
     "name": "stdout",
     "output_type": "stream",
     "text": [
      "Epoch 1/10\n",
      "6/6 [==============================] - 2s 268ms/step - loss: 0.6278 - val_loss: 0.7890\n",
      "Epoch 2/10\n",
      "6/6 [==============================] - 0s 59ms/step - loss: 0.3736 - val_loss: 0.4450\n",
      "Epoch 3/10\n",
      "6/6 [==============================] - 0s 38ms/step - loss: 0.1789 - val_loss: 0.1891\n",
      "Epoch 4/10\n",
      "6/6 [==============================] - 0s 42ms/step - loss: 0.0523 - val_loss: 0.0285\n",
      "Epoch 5/10\n",
      "6/6 [==============================] - 0s 35ms/step - loss: 0.0131 - val_loss: 0.0034\n",
      "Epoch 6/10\n",
      "6/6 [==============================] - 0s 37ms/step - loss: 0.0334 - val_loss: 0.0016\n",
      "Epoch 7/10\n",
      "6/6 [==============================] - 0s 76ms/step - loss: 0.0170 - val_loss: 0.0066\n",
      "Epoch 8/10\n",
      "6/6 [==============================] - 0s 75ms/step - loss: 0.0093 - val_loss: 0.0215\n",
      "Epoch 9/10\n",
      "6/6 [==============================] - 0s 67ms/step - loss: 0.0102 - val_loss: 0.0267\n",
      "Epoch 10/10\n",
      "6/6 [==============================] - 0s 61ms/step - loss: 0.0101 - val_loss: 0.0211\n"
     ]
    },
    {
     "data": {
      "text/plain": [
       "<tensorflow.python.keras.callbacks.History at 0x2a0d4891400>"
      ]
     },
     "execution_count": 92,
     "metadata": {},
     "output_type": "execute_result"
    }
   ],
   "source": [
    "lstm_input = Input(shape=(history_points, 5), name='lstm_input')\n",
    "x = LSTM(50, name='lstm_0')(lstm_input)\n",
    "x = Dropout(0.2, name='lstm_dropout_0')(x)\n",
    "x = Dense(64, name='dense_0')(x)\n",
    "x = Activation('sigmoid', name='sigmoid_0')(x)\n",
    "x = Dense(1, name='dense_1')(x)\n",
    "output = Activation('linear', name='linear_output')(x)\n",
    "\n",
    "model = Model(inputs=lstm_input, outputs=output)\n",
    "adam = optimizers.Adam(lr=0.0005)\n",
    "model.compile(optimizer=adam, loss='mean_squared_error')\n",
    "model.fit(x=ohlcv_train, y=y_train, batch_size=32, epochs=10, shuffle=True, validation_split=0.1)"
   ]
  },
  {
   "cell_type": "code",
   "execution_count": 93,
   "metadata": {},
   "outputs": [
    {
     "name": "stdout",
     "output_type": "stream",
     "text": [
      "Model: \"functional_19\"\n",
      "_________________________________________________________________\n",
      "Layer (type)                 Output Shape              Param #   \n",
      "=================================================================\n",
      "lstm_input (InputLayer)      [(None, 50, 5)]           0         \n",
      "_________________________________________________________________\n",
      "lstm_0 (LSTM)                (None, 50)                11200     \n",
      "_________________________________________________________________\n",
      "lstm_dropout_0 (Dropout)     (None, 50)                0         \n",
      "_________________________________________________________________\n",
      "dense_0 (Dense)              (None, 64)                3264      \n",
      "_________________________________________________________________\n",
      "sigmoid_0 (Activation)       (None, 64)                0         \n",
      "_________________________________________________________________\n",
      "dense_1 (Dense)              (None, 1)                 65        \n",
      "_________________________________________________________________\n",
      "linear_output (Activation)   (None, 1)                 0         \n",
      "=================================================================\n",
      "Total params: 14,529\n",
      "Trainable params: 14,529\n",
      "Non-trainable params: 0\n",
      "_________________________________________________________________\n",
      "None\n"
     ]
    }
   ],
   "source": [
    "print(model.summary())"
   ]
  },
  {
   "cell_type": "code",
   "execution_count": 99,
   "metadata": {},
   "outputs": [
    {
     "name": "stdout",
     "output_type": "stream",
     "text": [
      "[[0.6668958 ]\n",
      " [0.6710758 ]\n",
      " [0.67391634]\n",
      " [0.67788315]\n",
      " [0.68110067]\n",
      " [0.6827162 ]\n",
      " [0.6832824 ]\n",
      " [0.6829225 ]\n",
      " [0.6843975 ]\n",
      " [0.68449146]\n",
      " [0.68409705]\n",
      " [0.6827892 ]\n",
      " [0.68456006]\n",
      " [0.68580973]\n",
      " [0.68693876]\n",
      " [0.68994063]\n",
      " [0.6925038 ]\n",
      " [0.6953338 ]\n",
      " [0.69854957]]\n",
      "(20, 1)\n"
     ]
    }
   ],
   "source": [
    "y_test_predicted = model.predict(ohlcv_test)\n",
    "print(y_test_predicted[start:end])\n",
    "y_test_predicted = y_normaliser.inverse_transform(y_test_predicted)\n",
    "y_predicted = model.predict(ohlcv_histories)\n",
    "y_predicted = y_normaliser.inverse_transform(y_predicted)\n",
    "\n",
    "assert unscaled_y_test.shape == y_test_predicted.shape\n",
    "real_mse = np.mean(np.square(unscaled_y_test - y_test_predicted))\n",
    "scaled_mse = real_mse / (np.max(unscaled_y_test) - np.min(unscaled_y_test)) * 100\n",
    "\n",
    "\n",
    "import matplotlib.pyplot as plt\n",
    "\n",
    "#plt.gcf().set_size_inches(22, 15, forward=True)\n",
    "\n",
    "start = 0\n",
    "end = -1\n",
    "print(y_test_predicted.shape)\n",
    "real = plt.plot(unscaled_y_test[start:end], label='real')\n",
    "pred = plt.plot(y_test_predicted[start:end], label='predicted')\n",
    "\n",
    "# real = plt.plot(unscaled_y[start:end], label='real')\n",
    "# pred = plt.plot(y_predicted[start:end], label='predicted')\n",
    "\n",
    "plt.legend(['Real', 'Predicted'])\n",
    "\n",
    "plt.savefig(\"mygraph.png\")\n"
   ]
  },
  {
   "cell_type": "code",
   "execution_count": 54,
   "metadata": {},
   "outputs": [
    {
     "name": "stdout",
     "output_type": "stream",
     "text": [
      "nan\n"
     ]
    }
   ],
   "source": []
  },
  {
   "cell_type": "code",
   "execution_count": null,
   "metadata": {},
   "outputs": [],
   "source": []
  }
 ],
 "metadata": {
  "kernelspec": {
   "display_name": "Python 3",
   "language": "python",
   "name": "python3"
  },
  "language_info": {
   "codemirror_mode": {
    "name": "ipython",
    "version": 3
   },
   "file_extension": ".py",
   "mimetype": "text/x-python",
   "name": "python",
   "nbconvert_exporter": "python",
   "pygments_lexer": "ipython3",
   "version": "3.8.6"
  }
 },
 "nbformat": 4,
 "nbformat_minor": 4
}
