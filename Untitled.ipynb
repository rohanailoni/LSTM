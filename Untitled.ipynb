{
 "cells": [
  {
   "cell_type": "code",
   "execution_count": 3,
   "metadata": {},
   "outputs": [],
   "source": [
    "import keras\n",
    "import tensorflow as tf\n",
    "from keras.models import Model\n",
    "from keras.layers import Dense, Dropout, LSTM, Input, Activation, concatenate\n",
    "from keras import optimizers\n",
    "import numpy as np\n",
    "np.random.seed(4)\n",
    "from sklearn import preprocessing\n",
    "import pandas as pd"
   ]
  },
  {
   "cell_type": "code",
   "execution_count": 38,
   "metadata": {},
   "outputs": [
    {
     "data": {
      "text/plain": [
       "(250, 1)"
      ]
     },
     "execution_count": 38,
     "metadata": {},
     "output_type": "execute_result"
    }
   ],
   "source": [
    "data = pd.read_csv('INFY.NS.csv')\n",
    "data = data.drop('Date', axis=1)\n",
    "data = data.drop('Adj Close', axis=1)\n",
    "data=data.dropna(axis=0)\n",
    "output=data[['Close']]\n",
    "data = data.drop('Close', axis=1)\n",
    "\n",
    "output.shape"
   ]
  },
  {
   "cell_type": "code",
   "execution_count": 39,
   "metadata": {},
   "outputs": [],
   "source": [
    "from keras.models import Sequential\n",
    "from keras.layers import Dense\n",
    "from keras.layers import LSTM"
   ]
  },
  {
   "cell_type": "code",
   "execution_count": 40,
   "metadata": {},
   "outputs": [
    {
     "name": "stdout",
     "output_type": "stream",
     "text": [
      "Model: \"sequential_5\"\n",
      "_________________________________________________________________\n",
      "Layer (type)                 Output Shape              Param #   \n",
      "=================================================================\n",
      "dense_14 (Dense)             (None, 12)                60        \n",
      "_________________________________________________________________\n",
      "dense_15 (Dense)             (None, 8)                 104       \n",
      "_________________________________________________________________\n",
      "dense_16 (Dense)             (None, 1)                 9         \n",
      "=================================================================\n",
      "Total params: 173\n",
      "Trainable params: 173\n",
      "Non-trainable params: 0\n",
      "_________________________________________________________________\n"
     ]
    }
   ],
   "source": [
    "model = Sequential()\n",
    "model.add(Dense(12, input_dim=4, activation='relu'))\n",
    "model.add(Dense(8, activation='relu'))\n",
    "model.add(Dense(1, activation='sigmoid'))\n",
    "# compile the keras model\n",
    "model.compile(loss='mean_squared_error', optimizer='adam', metrics=['accuracy'])\n",
    "model.summary()"
   ]
  },
  {
   "cell_type": "code",
   "execution_count": 41,
   "metadata": {},
   "outputs": [
    {
     "name": "stdout",
     "output_type": "stream",
     "text": [
      "Epoch 1/10\n",
      "25/25 [==============================] - 0s 2ms/step - loss: 1127526.2500 - accuracy: 0.0000e+00\n",
      "Epoch 2/10\n",
      "25/25 [==============================] - 0s 2ms/step - loss: 1127526.2500 - accuracy: 0.0000e+00\n",
      "Epoch 3/10\n",
      "25/25 [==============================] - 0s 2ms/step - loss: 1127526.1250 - accuracy: 0.0000e+00\n",
      "Epoch 4/10\n",
      "25/25 [==============================] - 0s 2ms/step - loss: 1127526.2500 - accuracy: 0.0000e+00\n",
      "Epoch 5/10\n",
      "25/25 [==============================] - 0s 2ms/step - loss: 1127526.3750 - accuracy: 0.0000e+00\n",
      "Epoch 6/10\n",
      "25/25 [==============================] - 0s 3ms/step - loss: 1127526.1250 - accuracy: 0.0000e+00\n",
      "Epoch 7/10\n",
      "25/25 [==============================] - 0s 2ms/step - loss: 1127526.3750 - accuracy: 0.0000e+00\n",
      "Epoch 8/10\n",
      "25/25 [==============================] - 0s 3ms/step - loss: 1127526.2500 - accuracy: 0.0000e+00\n",
      "Epoch 9/10\n",
      "25/25 [==============================] - 0s 3ms/step - loss: 1127526.3750 - accuracy: 0.0000e+00\n",
      "Epoch 10/10\n",
      "25/25 [==============================] - 0s 2ms/step - loss: 1127526.1250 - accuracy: 0.0000e+00\n"
     ]
    },
    {
     "data": {
      "text/plain": [
       "<tensorflow.python.keras.callbacks.History at 0x1b0289410a0>"
      ]
     },
     "execution_count": 41,
     "metadata": {},
     "output_type": "execute_result"
    }
   ],
   "source": [
    "model.fit(x=data,y=output,epochs=10, batch_size=10)"
   ]
  },
  {
   "cell_type": "code",
   "execution_count": 43,
   "metadata": {},
   "outputs": [
    {
     "name": "stdout",
     "output_type": "stream",
     "text": [
      "0.0\n"
     ]
    }
   ],
   "source": [
    "_, accuracy = model.evaluate(data,output, verbose=0)\n",
    "print(accuracy)"
   ]
  },
  {
   "cell_type": "code",
   "execution_count": 56,
   "metadata": {},
   "outputs": [
    {
     "data": {
      "text/plain": [
       "Open      6.290000e+02\n",
       "High      6.517000e+02\n",
       "Low       6.260500e+02\n",
       "Volume    8.330276e+06\n",
       "Name: 0, dtype: float64"
      ]
     },
     "execution_count": 56,
     "metadata": {},
     "output_type": "execute_result"
    }
   ],
   "source": [
    "data[[\"Open\",\"High\",\"Volume\",\"Low\"]]\n",
    "data.iloc[0]"
   ]
  },
  {
   "cell_type": "code",
   "execution_count": null,
   "metadata": {},
   "outputs": [],
   "source": []
  }
 ],
 "metadata": {
  "kernelspec": {
   "display_name": "Python 3",
   "language": "python",
   "name": "python3"
  },
  "language_info": {
   "codemirror_mode": {
    "name": "ipython",
    "version": 3
   },
   "file_extension": ".py",
   "mimetype": "text/x-python",
   "name": "python",
   "nbconvert_exporter": "python",
   "pygments_lexer": "ipython3",
   "version": "3.8.6"
  }
 },
 "nbformat": 4,
 "nbformat_minor": 4
}
